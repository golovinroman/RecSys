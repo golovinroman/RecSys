{
 "cells": [
  {
   "cell_type": "markdown",
   "id": "5c373bf8",
   "metadata": {},
   "source": [
    "# Project"
   ]
  },
  {
   "cell_type": "code",
   "execution_count": 1,
   "id": "267e523b",
   "metadata": {},
   "outputs": [
    {
     "name": "stdout",
     "output_type": "stream",
     "text": [
      "Collecting implicit==0.4.4\n",
      "  Using cached implicit-0.4.4.tar.gz (1.1 MB)\n",
      "Requirement already satisfied: numpy in c:\\users\\rh\\anaconda3\\lib\\site-packages (from implicit==0.4.4) (1.20.3)\n",
      "Requirement already satisfied: scipy>=0.16 in c:\\users\\rh\\anaconda3\\lib\\site-packages (from implicit==0.4.4) (1.7.1)Note: you may need to restart the kernel to use updated packages.\n",
      "Requirement already satisfied: tqdm>=4.27 in c:\\users\\rh\\anaconda3\\lib\\site-packages (from implicit==0.4.4) (4.62.3)\n",
      "Requirement already satisfied: colorama in c:\\users\\rh\\anaconda3\\lib\\site-packages (from tqdm>=4.27->implicit==0.4.4) (0.4.4)\n",
      "Building wheels for collected packages: implicit\n",
      "\n",
      "  Building wheel for implicit (setup.py): started\n",
      "  Building wheel for implicit (setup.py): finished with status 'error'\n",
      "  Running setup.py clean for implicit\n",
      "Failed to build implicit\n",
      "Installing collected packages: implicit\n",
      "  Attempting uninstall: implicit\n",
      "    Found existing installation: implicit 0.5.2\n",
      "    Uninstalling implicit-0.5.2:\n",
      "      Successfully uninstalled implicit-0.5.2\n",
      "    Running setup.py install for implicit: started\n",
      "    Running setup.py install for implicit: finished with status 'error'\n",
      "  Rolling back uninstall of implicit\n",
      "  Moving to c:\\users\\rh\\anaconda3\\lib\\site-packages\\implicit-0.5.2.dist-info\\\n",
      "   from C:\\Users\\RH\\anaconda3\\Lib\\site-packages\\~mplicit-0.5.2.dist-info\n",
      "  Moving to c:\\users\\rh\\anaconda3\\lib\\site-packages\\implicit\\\n",
      "   from C:\\Users\\RH\\anaconda3\\Lib\\site-packages\\~mplicit\n"
     ]
    },
    {
     "name": "stderr",
     "output_type": "stream",
     "text": [
      "WARNING: Ignoring invalid distribution -lotly (c:\\users\\rh\\anaconda3\\lib\\site-packages)\n",
      "WARNING: Ignoring invalid distribution -lotly (c:\\users\\rh\\anaconda3\\lib\\site-packages)\n",
      "  ERROR: Command errored out with exit status 1:\n",
      "   command: 'C:\\Users\\RH\\anaconda3\\python.exe' -u -c 'import io, os, sys, setuptools, tokenize; sys.argv[0] = '\"'\"'C:\\\\Users\\\\RH\\\\AppData\\\\Local\\\\Temp\\\\pip-install-3ypi8_lx\\\\implicit_c15de4c01bef4008b1bafe31a09a7d96\\\\setup.py'\"'\"'; __file__='\"'\"'C:\\\\Users\\\\RH\\\\AppData\\\\Local\\\\Temp\\\\pip-install-3ypi8_lx\\\\implicit_c15de4c01bef4008b1bafe31a09a7d96\\\\setup.py'\"'\"';f = getattr(tokenize, '\"'\"'open'\"'\"', open)(__file__) if os.path.exists(__file__) else io.StringIO('\"'\"'from setuptools import setup; setup()'\"'\"');code = f.read().replace('\"'\"'\\r\\n'\"'\"', '\"'\"'\\n'\"'\"');f.close();exec(compile(code, __file__, '\"'\"'exec'\"'\"'))' bdist_wheel -d 'C:\\Users\\RH\\AppData\\Local\\Temp\\pip-wheel-td26zrkl'\n",
      "       cwd: C:\\Users\\RH\\AppData\\Local\\Temp\\pip-install-3ypi8_lx\\implicit_c15de4c01bef4008b1bafe31a09a7d96\\\n",
      "  Complete output (28 lines):\n",
      "  WARNING:root:The nvcc binary could not be located in your $PATH. Either add it to your path, or set $CUDAHOME to enable CUDA extensions\n",
      "  Failed to find CUDA toolkit. Building without GPU acceleration.\n",
      "  C:\\Users\\RH\\anaconda3\\lib\\site-packages\\setuptools\\dist.py:717: UserWarning: Usage of dash-separated 'description-file' will not be supported in future versions. Please use the underscore name 'description_file' instead\n",
      "    warnings.warn(\n",
      "  running bdist_wheel\n",
      "  running build\n",
      "  running build_py\n",
      "  creating build\n",
      "  creating build\\lib.win-amd64-3.9\n",
      "  creating build\\lib.win-amd64-3.9\\implicit\n",
      "  copying implicit\\als.py -> build\\lib.win-amd64-3.9\\implicit\n",
      "  copying implicit\\approximate_als.py -> build\\lib.win-amd64-3.9\\implicit\n",
      "  copying implicit\\nearest_neighbours.py -> build\\lib.win-amd64-3.9\\implicit\n",
      "  copying implicit\\utils.py -> build\\lib.win-amd64-3.9\\implicit\n",
      "  copying implicit\\__init__.py -> build\\lib.win-amd64-3.9\\implicit\n",
      "  creating build\\lib.win-amd64-3.9\\implicit\\cuda\n",
      "  copying implicit\\cuda\\__init__.py -> build\\lib.win-amd64-3.9\\implicit\\cuda\n",
      "  creating build\\lib.win-amd64-3.9\\implicit\\datasets\n",
      "  copying implicit\\datasets\\lastfm.py -> build\\lib.win-amd64-3.9\\implicit\\datasets\n",
      "  copying implicit\\datasets\\million_song_dataset.py -> build\\lib.win-amd64-3.9\\implicit\\datasets\n",
      "  copying implicit\\datasets\\movielens.py -> build\\lib.win-amd64-3.9\\implicit\\datasets\n",
      "  copying implicit\\datasets\\reddit.py -> build\\lib.win-amd64-3.9\\implicit\\datasets\n",
      "  copying implicit\\datasets\\sketchfab.py -> build\\lib.win-amd64-3.9\\implicit\\datasets\n",
      "  copying implicit\\datasets\\_download.py -> build\\lib.win-amd64-3.9\\implicit\\datasets\n",
      "  copying implicit\\datasets\\__init__.py -> build\\lib.win-amd64-3.9\\implicit\\datasets\n",
      "  running build_ext\n",
      "  building 'implicit._als' extension\n",
      "  error: Microsoft Visual C++ 14.0 or greater is required. Get it with \"Microsoft C++ Build Tools\": https://visualstudio.microsoft.com/visual-cpp-build-tools/\n",
      "  ----------------------------------------\n",
      "  ERROR: Failed building wheel for implicit\n",
      "WARNING: Ignoring invalid distribution -lotly (c:\\users\\rh\\anaconda3\\lib\\site-packages)\n",
      "    WARNING: Ignoring invalid distribution -lotly (c:\\users\\rh\\anaconda3\\lib\\site-packages)\n",
      "    ERROR: Command errored out with exit status 1:\n",
      "     command: 'C:\\Users\\RH\\anaconda3\\python.exe' -u -c 'import io, os, sys, setuptools, tokenize; sys.argv[0] = '\"'\"'C:\\\\Users\\\\RH\\\\AppData\\\\Local\\\\Temp\\\\pip-install-3ypi8_lx\\\\implicit_c15de4c01bef4008b1bafe31a09a7d96\\\\setup.py'\"'\"'; __file__='\"'\"'C:\\\\Users\\\\RH\\\\AppData\\\\Local\\\\Temp\\\\pip-install-3ypi8_lx\\\\implicit_c15de4c01bef4008b1bafe31a09a7d96\\\\setup.py'\"'\"';f = getattr(tokenize, '\"'\"'open'\"'\"', open)(__file__) if os.path.exists(__file__) else io.StringIO('\"'\"'from setuptools import setup; setup()'\"'\"');code = f.read().replace('\"'\"'\\r\\n'\"'\"', '\"'\"'\\n'\"'\"');f.close();exec(compile(code, __file__, '\"'\"'exec'\"'\"'))' install --record 'C:\\Users\\RH\\AppData\\Local\\Temp\\pip-record-9p6hx8ep\\install-record.txt' --single-version-externally-managed --compile --install-headers 'C:\\Users\\RH\\anaconda3\\Include\\implicit'\n",
      "         cwd: C:\\Users\\RH\\AppData\\Local\\Temp\\pip-install-3ypi8_lx\\implicit_c15de4c01bef4008b1bafe31a09a7d96\\\n",
      "    Complete output (28 lines):\n",
      "    WARNING:root:The nvcc binary could not be located in your $PATH. Either add it to your path, or set $CUDAHOME to enable CUDA extensions\n",
      "    Failed to find CUDA toolkit. Building without GPU acceleration.\n",
      "    C:\\Users\\RH\\anaconda3\\lib\\site-packages\\setuptools\\dist.py:717: UserWarning: Usage of dash-separated 'description-file' will not be supported in future versions. Please use the underscore name 'description_file' instead\n",
      "      warnings.warn(\n",
      "    running install\n",
      "    running build\n",
      "    running build_py\n",
      "    creating build\n",
      "    creating build\\lib.win-amd64-3.9\n",
      "    creating build\\lib.win-amd64-3.9\\implicit\n",
      "    copying implicit\\als.py -> build\\lib.win-amd64-3.9\\implicit\n",
      "    copying implicit\\approximate_als.py -> build\\lib.win-amd64-3.9\\implicit\n",
      "    copying implicit\\nearest_neighbours.py -> build\\lib.win-amd64-3.9\\implicit\n",
      "    copying implicit\\utils.py -> build\\lib.win-amd64-3.9\\implicit\n",
      "    copying implicit\\__init__.py -> build\\lib.win-amd64-3.9\\implicit\n",
      "    creating build\\lib.win-amd64-3.9\\implicit\\cuda\n",
      "    copying implicit\\cuda\\__init__.py -> build\\lib.win-amd64-3.9\\implicit\\cuda\n",
      "    creating build\\lib.win-amd64-3.9\\implicit\\datasets\n",
      "    copying implicit\\datasets\\lastfm.py -> build\\lib.win-amd64-3.9\\implicit\\datasets\n",
      "    copying implicit\\datasets\\million_song_dataset.py -> build\\lib.win-amd64-3.9\\implicit\\datasets\n",
      "    copying implicit\\datasets\\movielens.py -> build\\lib.win-amd64-3.9\\implicit\\datasets\n",
      "    copying implicit\\datasets\\reddit.py -> build\\lib.win-amd64-3.9\\implicit\\datasets\n",
      "    copying implicit\\datasets\\sketchfab.py -> build\\lib.win-amd64-3.9\\implicit\\datasets\n",
      "    copying implicit\\datasets\\_download.py -> build\\lib.win-amd64-3.9\\implicit\\datasets\n",
      "    copying implicit\\datasets\\__init__.py -> build\\lib.win-amd64-3.9\\implicit\\datasets\n",
      "    running build_ext\n",
      "    building 'implicit._als' extension\n",
      "    error: Microsoft Visual C++ 14.0 or greater is required. Get it with \"Microsoft C++ Build Tools\": https://visualstudio.microsoft.com/visual-cpp-build-tools/\n",
      "    ----------------------------------------\n",
      "ERROR: Command errored out with exit status 1: 'C:\\Users\\RH\\anaconda3\\python.exe' -u -c 'import io, os, sys, setuptools, tokenize; sys.argv[0] = '\"'\"'C:\\\\Users\\\\RH\\\\AppData\\\\Local\\\\Temp\\\\pip-install-3ypi8_lx\\\\implicit_c15de4c01bef4008b1bafe31a09a7d96\\\\setup.py'\"'\"'; __file__='\"'\"'C:\\\\Users\\\\RH\\\\AppData\\\\Local\\\\Temp\\\\pip-install-3ypi8_lx\\\\implicit_c15de4c01bef4008b1bafe31a09a7d96\\\\setup.py'\"'\"';f = getattr(tokenize, '\"'\"'open'\"'\"', open)(__file__) if os.path.exists(__file__) else io.StringIO('\"'\"'from setuptools import setup; setup()'\"'\"');code = f.read().replace('\"'\"'\\r\\n'\"'\"', '\"'\"'\\n'\"'\"');f.close();exec(compile(code, __file__, '\"'\"'exec'\"'\"'))' install --record 'C:\\Users\\RH\\AppData\\Local\\Temp\\pip-record-9p6hx8ep\\install-record.txt' --single-version-externally-managed --compile --install-headers 'C:\\Users\\RH\\anaconda3\\Include\\implicit' Check the logs for full command output.\n",
      "WARNING: Ignoring invalid distribution -lotly (c:\\users\\rh\\anaconda3\\lib\\site-packages)\n",
      "WARNING: Ignoring invalid distribution -lotly (c:\\users\\rh\\anaconda3\\lib\\site-packages)\n",
      "WARNING: Ignoring invalid distribution -lotly (c:\\users\\rh\\anaconda3\\lib\\site-packages)\n"
     ]
    }
   ],
   "source": [
    "pip install implicit==0.4.4"
   ]
  },
  {
   "cell_type": "code",
   "execution_count": null,
   "id": "4f375f46",
   "metadata": {},
   "outputs": [],
   "source": []
  },
  {
   "cell_type": "code",
   "execution_count": null,
   "id": "d93ac148",
   "metadata": {},
   "outputs": [],
   "source": [
    "import os\n",
    "import pathlib\n",
    "import pickle\n",
    "import numpy as np\n",
    "import pandas as pd\n",
    "import matplotlib.pyplot as plt\n",
    "import implicit\n",
    "\n",
    "from scipy.sparse import csr_matrix\n",
    "from implicit import als\n",
    "from lightgbm import LGBMClassifier\n",
    "\n",
    "from metrics import precision_at_k, recall_at_k\n",
    "from utils import prefilter_items\n",
    "from recommenders import MainRecommender"
   ]
  },
  {
   "cell_type": "code",
   "execution_count": null,
   "id": "3318c571",
   "metadata": {},
   "outputs": [],
   "source": []
  },
  {
   "cell_type": "code",
   "execution_count": null,
   "id": "39c995c5",
   "metadata": {},
   "outputs": [],
   "source": []
  },
  {
   "cell_type": "code",
   "execution_count": null,
   "id": "82f80ada",
   "metadata": {},
   "outputs": [],
   "source": []
  }
 ],
 "metadata": {
  "kernelspec": {
   "display_name": "Python 3 (ipykernel)",
   "language": "python",
   "name": "python3"
  },
  "language_info": {
   "codemirror_mode": {
    "name": "ipython",
    "version": 3
   },
   "file_extension": ".py",
   "mimetype": "text/x-python",
   "name": "python",
   "nbconvert_exporter": "python",
   "pygments_lexer": "ipython3",
   "version": "3.9.7"
  }
 },
 "nbformat": 4,
 "nbformat_minor": 5
}
